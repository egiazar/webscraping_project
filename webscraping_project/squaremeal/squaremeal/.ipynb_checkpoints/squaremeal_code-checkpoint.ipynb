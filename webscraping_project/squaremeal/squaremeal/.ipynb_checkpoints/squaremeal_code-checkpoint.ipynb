{
 "cells": [
  {
   "cell_type": "code",
   "execution_count": 14,
   "metadata": {},
   "outputs": [],
   "source": [
    "%matplotlib inline\n"
   ]
  },
  {
   "cell_type": "code",
   "execution_count": 15,
   "metadata": {},
   "outputs": [],
   "source": [
    "import pandas as pd\n",
    "import numpy as np\n",
    "from matplotlib import pyplot as plt\n",
    "plt.style.use('ggplot')\n",
    "df = pd.read_csv('squaremeal.csv')"
   ]
  },
  {
   "cell_type": "code",
   "execution_count": 2,
   "metadata": {},
   "outputs": [
    {
     "data": {
      "text/html": [
       "<div>\n",
       "<style scoped>\n",
       "    .dataframe tbody tr th:only-of-type {\n",
       "        vertical-align: middle;\n",
       "    }\n",
       "\n",
       "    .dataframe tbody tr th {\n",
       "        vertical-align: top;\n",
       "    }\n",
       "\n",
       "    .dataframe thead th {\n",
       "        text-align: right;\n",
       "    }\n",
       "</style>\n",
       "<table border=\"1\" class=\"dataframe\">\n",
       "  <thead>\n",
       "    <tr style=\"text-align: right;\">\n",
       "      <th></th>\n",
       "      <th>cuisine</th>\n",
       "      <th>name</th>\n",
       "      <th>num_reviews</th>\n",
       "      <th>price</th>\n",
       "      <th>stars</th>\n",
       "    </tr>\n",
       "  </thead>\n",
       "  <tbody>\n",
       "    <tr>\n",
       "      <th>0</th>\n",
       "      <td>Modern European</td>\n",
       "      <td>Savoy Grill at The Savoy</td>\n",
       "      <td>40</td>\n",
       "      <td>64.5</td>\n",
       "      <td>3.5</td>\n",
       "    </tr>\n",
       "    <tr>\n",
       "      <th>1</th>\n",
       "      <td>Bars</td>\n",
       "      <td>Dirty Martini Covent Garden</td>\n",
       "      <td>2</td>\n",
       "      <td>N\\A</td>\n",
       "      <td>3.0</td>\n",
       "    </tr>\n",
       "    <tr>\n",
       "      <th>2</th>\n",
       "      <td>Indian</td>\n",
       "      <td>Tamarind Mayfair</td>\n",
       "      <td>23</td>\n",
       "      <td>64.5</td>\n",
       "      <td>4.0</td>\n",
       "    </tr>\n",
       "    <tr>\n",
       "      <th>3</th>\n",
       "      <td>Bars</td>\n",
       "      <td>Bourne &amp; Hollingsworth</td>\n",
       "      <td>1</td>\n",
       "      <td>N\\A</td>\n",
       "      <td>5.0</td>\n",
       "    </tr>\n",
       "    <tr>\n",
       "      <th>4</th>\n",
       "      <td>French</td>\n",
       "      <td>Creme de la Crepe</td>\n",
       "      <td>0</td>\n",
       "      <td>N\\A</td>\n",
       "      <td>5.0</td>\n",
       "    </tr>\n",
       "    <tr>\n",
       "      <th>...</th>\n",
       "      <td>...</td>\n",
       "      <td>...</td>\n",
       "      <td>...</td>\n",
       "      <td>...</td>\n",
       "      <td>...</td>\n",
       "    </tr>\n",
       "    <tr>\n",
       "      <th>1255</th>\n",
       "      <td>North American, Steak</td>\n",
       "      <td>STK London</td>\n",
       "      <td>17</td>\n",
       "      <td>64.5</td>\n",
       "      <td>2.0</td>\n",
       "    </tr>\n",
       "    <tr>\n",
       "      <th>1256</th>\n",
       "      <td>Japanese, Noodles</td>\n",
       "      <td>Shoryu Ramen Covent Garden</td>\n",
       "      <td>0</td>\n",
       "      <td>39.5</td>\n",
       "      <td>5.0</td>\n",
       "    </tr>\n",
       "    <tr>\n",
       "      <th>1257</th>\n",
       "      <td>Pubs</td>\n",
       "      <td>The Burlington Arms</td>\n",
       "      <td>0</td>\n",
       "      <td>30.0</td>\n",
       "      <td>5.0</td>\n",
       "    </tr>\n",
       "    <tr>\n",
       "      <th>1258</th>\n",
       "      <td>Modern European</td>\n",
       "      <td>Spring</td>\n",
       "      <td>16</td>\n",
       "      <td>64.5</td>\n",
       "      <td>3.5</td>\n",
       "    </tr>\n",
       "    <tr>\n",
       "      <th>1259</th>\n",
       "      <td>British</td>\n",
       "      <td>Rowley's, London</td>\n",
       "      <td>14</td>\n",
       "      <td>64.5</td>\n",
       "      <td>4.5</td>\n",
       "    </tr>\n",
       "  </tbody>\n",
       "</table>\n",
       "<p>1260 rows × 5 columns</p>\n",
       "</div>"
      ],
      "text/plain": [
       "                    cuisine                         name  num_reviews price  \\\n",
       "0           Modern European     Savoy Grill at The Savoy           40  64.5   \n",
       "1                      Bars  Dirty Martini Covent Garden            2   N\\A   \n",
       "2                    Indian             Tamarind Mayfair           23  64.5   \n",
       "3                      Bars       Bourne & Hollingsworth            1   N\\A   \n",
       "4                    French            Creme de la Crepe            0   N\\A   \n",
       "...                     ...                          ...          ...   ...   \n",
       "1255  North American, Steak                   STK London           17  64.5   \n",
       "1256      Japanese, Noodles   Shoryu Ramen Covent Garden            0  39.5   \n",
       "1257                   Pubs          The Burlington Arms            0  30.0   \n",
       "1258        Modern European                       Spring           16  64.5   \n",
       "1259                British             Rowley's, London           14  64.5   \n",
       "\n",
       "      stars  \n",
       "0       3.5  \n",
       "1       3.0  \n",
       "2       4.0  \n",
       "3       5.0  \n",
       "4       5.0  \n",
       "...     ...  \n",
       "1255    2.0  \n",
       "1256    5.0  \n",
       "1257    5.0  \n",
       "1258    3.5  \n",
       "1259    4.5  \n",
       "\n",
       "[1260 rows x 5 columns]"
      ]
     },
     "execution_count": 2,
     "metadata": {},
     "output_type": "execute_result"
    }
   ],
   "source": [
    "df"
   ]
  },
  {
   "cell_type": "code",
   "execution_count": 3,
   "metadata": {},
   "outputs": [
    {
     "data": {
      "text/plain": [
       "<pandas.core.groupby.generic.DataFrameGroupBy object at 0x7fb7c889a890>"
      ]
     },
     "execution_count": 3,
     "metadata": {},
     "output_type": "execute_result"
    }
   ],
   "source": [
    "df.groupby('cuisine')\n",
    "\n"
   ]
  },
  {
   "cell_type": "code",
   "execution_count": 4,
   "metadata": {},
   "outputs": [],
   "source": [
    "df_cuisine = df.groupby('cuisine')"
   ]
  },
  {
   "cell_type": "code",
   "execution_count": 5,
   "metadata": {},
   "outputs": [
    {
     "data": {
      "text/plain": [
       "<pandas.core.groupby.generic.DataFrameGroupBy object at 0x7fb7c889aa90>"
      ]
     },
     "execution_count": 5,
     "metadata": {},
     "output_type": "execute_result"
    }
   ],
   "source": [
    "df_cuisine"
   ]
  },
  {
   "cell_type": "code",
   "execution_count": 6,
   "metadata": {},
   "outputs": [
    {
     "data": {
      "text/html": [
       "<div>\n",
       "<style scoped>\n",
       "    .dataframe tbody tr th:only-of-type {\n",
       "        vertical-align: middle;\n",
       "    }\n",
       "\n",
       "    .dataframe tbody tr th {\n",
       "        vertical-align: top;\n",
       "    }\n",
       "\n",
       "    .dataframe thead th {\n",
       "        text-align: right;\n",
       "    }\n",
       "</style>\n",
       "<table border=\"1\" class=\"dataframe\">\n",
       "  <thead>\n",
       "    <tr style=\"text-align: right;\">\n",
       "      <th></th>\n",
       "      <th>cuisine</th>\n",
       "      <th>name</th>\n",
       "      <th>num_reviews</th>\n",
       "      <th>price</th>\n",
       "      <th>stars</th>\n",
       "    </tr>\n",
       "  </thead>\n",
       "  <tbody>\n",
       "    <tr>\n",
       "      <th>0</th>\n",
       "      <td>Modern European</td>\n",
       "      <td>Savoy Grill at The Savoy</td>\n",
       "      <td>40</td>\n",
       "      <td>64.5</td>\n",
       "      <td>3.5</td>\n",
       "    </tr>\n",
       "    <tr>\n",
       "      <th>1</th>\n",
       "      <td>Bars</td>\n",
       "      <td>Dirty Martini Covent Garden</td>\n",
       "      <td>2</td>\n",
       "      <td>N\\A</td>\n",
       "      <td>3.0</td>\n",
       "    </tr>\n",
       "    <tr>\n",
       "      <th>2</th>\n",
       "      <td>Indian</td>\n",
       "      <td>Tamarind Mayfair</td>\n",
       "      <td>23</td>\n",
       "      <td>64.5</td>\n",
       "      <td>4.0</td>\n",
       "    </tr>\n",
       "    <tr>\n",
       "      <th>3</th>\n",
       "      <td>Bars</td>\n",
       "      <td>Bourne &amp; Hollingsworth</td>\n",
       "      <td>1</td>\n",
       "      <td>N\\A</td>\n",
       "      <td>5.0</td>\n",
       "    </tr>\n",
       "    <tr>\n",
       "      <th>4</th>\n",
       "      <td>French</td>\n",
       "      <td>Creme de la Crepe</td>\n",
       "      <td>0</td>\n",
       "      <td>N\\A</td>\n",
       "      <td>5.0</td>\n",
       "    </tr>\n",
       "    <tr>\n",
       "      <th>...</th>\n",
       "      <td>...</td>\n",
       "      <td>...</td>\n",
       "      <td>...</td>\n",
       "      <td>...</td>\n",
       "      <td>...</td>\n",
       "    </tr>\n",
       "    <tr>\n",
       "      <th>1248</th>\n",
       "      <td>Afternoon tea, Japanese, Sushi</td>\n",
       "      <td>Ginza Onodera</td>\n",
       "      <td>1</td>\n",
       "      <td>64.5</td>\n",
       "      <td>4.5</td>\n",
       "    </tr>\n",
       "    <tr>\n",
       "      <th>1252</th>\n",
       "      <td>British, North American</td>\n",
       "      <td>Heliot at The Hippodrome</td>\n",
       "      <td>4</td>\n",
       "      <td>39.5</td>\n",
       "      <td>4.0</td>\n",
       "    </tr>\n",
       "    <tr>\n",
       "      <th>1254</th>\n",
       "      <td>British, Steak</td>\n",
       "      <td>Hawksmoor Seven Dials</td>\n",
       "      <td>41</td>\n",
       "      <td>64.5</td>\n",
       "      <td>5.0</td>\n",
       "    </tr>\n",
       "    <tr>\n",
       "      <th>1255</th>\n",
       "      <td>North American, Steak</td>\n",
       "      <td>STK London</td>\n",
       "      <td>17</td>\n",
       "      <td>64.5</td>\n",
       "      <td>2.0</td>\n",
       "    </tr>\n",
       "    <tr>\n",
       "      <th>1256</th>\n",
       "      <td>Japanese, Noodles</td>\n",
       "      <td>Shoryu Ramen Covent Garden</td>\n",
       "      <td>0</td>\n",
       "      <td>39.5</td>\n",
       "      <td>5.0</td>\n",
       "    </tr>\n",
       "  </tbody>\n",
       "</table>\n",
       "<p>423 rows × 5 columns</p>\n",
       "</div>"
      ],
      "text/plain": [
       "                             cuisine                         name  \\\n",
       "0                    Modern European     Savoy Grill at The Savoy   \n",
       "1                               Bars  Dirty Martini Covent Garden   \n",
       "2                             Indian             Tamarind Mayfair   \n",
       "3                               Bars       Bourne & Hollingsworth   \n",
       "4                             French            Creme de la Crepe   \n",
       "...                              ...                          ...   \n",
       "1248  Afternoon tea, Japanese, Sushi                Ginza Onodera   \n",
       "1252         British, North American    Heliot at The Hippodrome    \n",
       "1254                  British, Steak        Hawksmoor Seven Dials   \n",
       "1255           North American, Steak                   STK London   \n",
       "1256               Japanese, Noodles   Shoryu Ramen Covent Garden   \n",
       "\n",
       "      num_reviews price  stars  \n",
       "0              40  64.5    3.5  \n",
       "1               2   N\\A    3.0  \n",
       "2              23  64.5    4.0  \n",
       "3               1   N\\A    5.0  \n",
       "4               0   N\\A    5.0  \n",
       "...           ...   ...    ...  \n",
       "1248            1  64.5    4.5  \n",
       "1252            4  39.5    4.0  \n",
       "1254           41  64.5    5.0  \n",
       "1255           17  64.5    2.0  \n",
       "1256            0  39.5    5.0  \n",
       "\n",
       "[423 rows x 5 columns]"
      ]
     },
     "execution_count": 6,
     "metadata": {},
     "output_type": "execute_result"
    }
   ],
   "source": [
    "df_cuisine.head()\n"
   ]
  },
  {
   "cell_type": "code",
   "execution_count": 8,
   "metadata": {},
   "outputs": [
    {
     "data": {
      "text/html": [
       "<div>\n",
       "<style scoped>\n",
       "    .dataframe tbody tr th:only-of-type {\n",
       "        vertical-align: middle;\n",
       "    }\n",
       "\n",
       "    .dataframe tbody tr th {\n",
       "        vertical-align: top;\n",
       "    }\n",
       "\n",
       "    .dataframe thead th {\n",
       "        text-align: right;\n",
       "    }\n",
       "</style>\n",
       "<table border=\"1\" class=\"dataframe\">\n",
       "  <thead>\n",
       "    <tr style=\"text-align: right;\">\n",
       "      <th></th>\n",
       "      <th>cuisine</th>\n",
       "      <th>num_reviews</th>\n",
       "      <th>price</th>\n",
       "      <th>stars</th>\n",
       "    </tr>\n",
       "    <tr>\n",
       "      <th>name</th>\n",
       "      <th></th>\n",
       "      <th></th>\n",
       "      <th></th>\n",
       "      <th></th>\n",
       "    </tr>\n",
       "  </thead>\n",
       "  <tbody>\n",
       "    <tr>\n",
       "      <th>Savoy Grill at The Savoy</th>\n",
       "      <td>Modern European</td>\n",
       "      <td>40</td>\n",
       "      <td>64.5</td>\n",
       "      <td>3.5</td>\n",
       "    </tr>\n",
       "    <tr>\n",
       "      <th>Dirty Martini Covent Garden</th>\n",
       "      <td>Bars</td>\n",
       "      <td>2</td>\n",
       "      <td>N\\A</td>\n",
       "      <td>3.0</td>\n",
       "    </tr>\n",
       "    <tr>\n",
       "      <th>Tamarind Mayfair</th>\n",
       "      <td>Indian</td>\n",
       "      <td>23</td>\n",
       "      <td>64.5</td>\n",
       "      <td>4.0</td>\n",
       "    </tr>\n",
       "    <tr>\n",
       "      <th>Bourne &amp; Hollingsworth</th>\n",
       "      <td>Bars</td>\n",
       "      <td>1</td>\n",
       "      <td>N\\A</td>\n",
       "      <td>5.0</td>\n",
       "    </tr>\n",
       "    <tr>\n",
       "      <th>Creme de la Crepe</th>\n",
       "      <td>French</td>\n",
       "      <td>0</td>\n",
       "      <td>N\\A</td>\n",
       "      <td>5.0</td>\n",
       "    </tr>\n",
       "    <tr>\n",
       "      <th>...</th>\n",
       "      <td>...</td>\n",
       "      <td>...</td>\n",
       "      <td>...</td>\n",
       "      <td>...</td>\n",
       "    </tr>\n",
       "    <tr>\n",
       "      <th>STK London</th>\n",
       "      <td>North American, Steak</td>\n",
       "      <td>17</td>\n",
       "      <td>64.5</td>\n",
       "      <td>2.0</td>\n",
       "    </tr>\n",
       "    <tr>\n",
       "      <th>Shoryu Ramen Covent Garden</th>\n",
       "      <td>Japanese, Noodles</td>\n",
       "      <td>0</td>\n",
       "      <td>39.5</td>\n",
       "      <td>5.0</td>\n",
       "    </tr>\n",
       "    <tr>\n",
       "      <th>The Burlington Arms</th>\n",
       "      <td>Pubs</td>\n",
       "      <td>0</td>\n",
       "      <td>30.0</td>\n",
       "      <td>5.0</td>\n",
       "    </tr>\n",
       "    <tr>\n",
       "      <th>Spring</th>\n",
       "      <td>Modern European</td>\n",
       "      <td>16</td>\n",
       "      <td>64.5</td>\n",
       "      <td>3.5</td>\n",
       "    </tr>\n",
       "    <tr>\n",
       "      <th>Rowley's, London</th>\n",
       "      <td>British</td>\n",
       "      <td>14</td>\n",
       "      <td>64.5</td>\n",
       "      <td>4.5</td>\n",
       "    </tr>\n",
       "  </tbody>\n",
       "</table>\n",
       "<p>1260 rows × 4 columns</p>\n",
       "</div>"
      ],
      "text/plain": [
       "                                           cuisine  num_reviews price  stars\n",
       "name                                                                        \n",
       "Savoy Grill at The Savoy           Modern European           40  64.5    3.5\n",
       "Dirty Martini Covent Garden                   Bars            2   N\\A    3.0\n",
       "Tamarind Mayfair                            Indian           23  64.5    4.0\n",
       "Bourne & Hollingsworth                        Bars            1   N\\A    5.0\n",
       "Creme de la Crepe                           French            0   N\\A    5.0\n",
       "...                                            ...          ...   ...    ...\n",
       "STK London                   North American, Steak           17  64.5    2.0\n",
       "Shoryu Ramen Covent Garden       Japanese, Noodles            0  39.5    5.0\n",
       "The Burlington Arms                           Pubs            0  30.0    5.0\n",
       "Spring                             Modern European           16  64.5    3.5\n",
       "Rowley's, London                           British           14  64.5    4.5\n",
       "\n",
       "[1260 rows x 4 columns]"
      ]
     },
     "execution_count": 8,
     "metadata": {},
     "output_type": "execute_result"
    }
   ],
   "source": [
    "df2 = pd.read_csv('squaremeal.csv', index_col=1)\n",
    "df2"
   ]
  },
  {
   "cell_type": "code",
   "execution_count": 11,
   "metadata": {},
   "outputs": [
    {
     "data": {
      "text/html": [
       "<div>\n",
       "<style scoped>\n",
       "    .dataframe tbody tr th:only-of-type {\n",
       "        vertical-align: middle;\n",
       "    }\n",
       "\n",
       "    .dataframe tbody tr th {\n",
       "        vertical-align: top;\n",
       "    }\n",
       "\n",
       "    .dataframe thead th {\n",
       "        text-align: right;\n",
       "    }\n",
       "</style>\n",
       "<table border=\"1\" class=\"dataframe\">\n",
       "  <thead>\n",
       "    <tr style=\"text-align: right;\">\n",
       "      <th></th>\n",
       "      <th>cuisine</th>\n",
       "      <th>num_reviews</th>\n",
       "      <th>price</th>\n",
       "      <th>stars</th>\n",
       "    </tr>\n",
       "    <tr>\n",
       "      <th>name</th>\n",
       "      <th></th>\n",
       "      <th></th>\n",
       "      <th></th>\n",
       "      <th></th>\n",
       "    </tr>\n",
       "  </thead>\n",
       "  <tbody>\n",
       "    <tr>\n",
       "      <th>Kol</th>\n",
       "      <td>Mexican</td>\n",
       "      <td>0</td>\n",
       "      <td>64.5</td>\n",
       "      <td>5.0</td>\n",
       "    </tr>\n",
       "    <tr>\n",
       "      <th>Papillon at Hotel Cafe Royal</th>\n",
       "      <td>British</td>\n",
       "      <td>0</td>\n",
       "      <td>N\\A</td>\n",
       "      <td>5.0</td>\n",
       "    </tr>\n",
       "    <tr>\n",
       "      <th>Byron Haymarket</th>\n",
       "      <td>Burgers, International</td>\n",
       "      <td>0</td>\n",
       "      <td>30.0</td>\n",
       "      <td>5.0</td>\n",
       "    </tr>\n",
       "    <tr>\n",
       "      <th>Ain't Nothin' But... The Blues Bar</th>\n",
       "      <td>Bars</td>\n",
       "      <td>0</td>\n",
       "      <td>N\\A</td>\n",
       "      <td>5.0</td>\n",
       "    </tr>\n",
       "    <tr>\n",
       "      <th>Bar &amp; Kitchen</th>\n",
       "      <td>British</td>\n",
       "      <td>0</td>\n",
       "      <td>N\\A</td>\n",
       "      <td>5.0</td>\n",
       "    </tr>\n",
       "    <tr>\n",
       "      <th>...</th>\n",
       "      <td>...</td>\n",
       "      <td>...</td>\n",
       "      <td>...</td>\n",
       "      <td>...</td>\n",
       "    </tr>\n",
       "    <tr>\n",
       "      <th>Sawadika Fine Thai Restaurant</th>\n",
       "      <td>Thai</td>\n",
       "      <td>1</td>\n",
       "      <td>N\\A</td>\n",
       "      <td>1.0</td>\n",
       "    </tr>\n",
       "    <tr>\n",
       "      <th>Café Rouge - Kingsway</th>\n",
       "      <td>French</td>\n",
       "      <td>1</td>\n",
       "      <td>N\\A</td>\n",
       "      <td>1.0</td>\n",
       "    </tr>\n",
       "    <tr>\n",
       "      <th>My Old Dutch</th>\n",
       "      <td>Ice Cream, International</td>\n",
       "      <td>1</td>\n",
       "      <td>30.0</td>\n",
       "      <td>0.5</td>\n",
       "    </tr>\n",
       "    <tr>\n",
       "      <th>Garlic &amp; Shots</th>\n",
       "      <td>Bars</td>\n",
       "      <td>2</td>\n",
       "      <td>N\\A</td>\n",
       "      <td>0.5</td>\n",
       "    </tr>\n",
       "    <tr>\n",
       "      <th>Le Troisieme Wine Bar &amp; Restaurant</th>\n",
       "      <td>French</td>\n",
       "      <td>1</td>\n",
       "      <td>N\\A</td>\n",
       "      <td>0.5</td>\n",
       "    </tr>\n",
       "  </tbody>\n",
       "</table>\n",
       "<p>1260 rows × 4 columns</p>\n",
       "</div>"
      ],
      "text/plain": [
       "                                                     cuisine  num_reviews  \\\n",
       "name                                                                        \n",
       "Kol                                                  Mexican            0   \n",
       "Papillon at Hotel Cafe Royal                         British            0   \n",
       "Byron Haymarket                       Burgers, International            0   \n",
       "Ain't Nothin' But... The Blues Bar                      Bars            0   \n",
       "Bar & Kitchen                                        British            0   \n",
       "...                                                      ...          ...   \n",
       "Sawadika Fine Thai Restaurant                           Thai            1   \n",
       "Café Rouge - Kingsway                                 French            1   \n",
       "My Old Dutch                        Ice Cream, International            1   \n",
       "Garlic & Shots                                          Bars            2   \n",
       "Le Troisieme Wine Bar & Restaurant                    French            1   \n",
       "\n",
       "                                   price  stars  \n",
       "name                                             \n",
       "Kol                                 64.5    5.0  \n",
       "Papillon at Hotel Cafe Royal         N\\A    5.0  \n",
       "Byron Haymarket                     30.0    5.0  \n",
       "Ain't Nothin' But... The Blues Bar   N\\A    5.0  \n",
       "Bar & Kitchen                        N\\A    5.0  \n",
       "...                                  ...    ...  \n",
       "Sawadika Fine Thai Restaurant        N\\A    1.0  \n",
       "Café Rouge - Kingsway                N\\A    1.0  \n",
       "My Old Dutch                        30.0    0.5  \n",
       "Garlic & Shots                       N\\A    0.5  \n",
       "Le Troisieme Wine Bar & Restaurant   N\\A    0.5  \n",
       "\n",
       "[1260 rows x 4 columns]"
      ]
     },
     "execution_count": 11,
     "metadata": {},
     "output_type": "execute_result"
    }
   ],
   "source": [
    "df2.sort_values('stars', ascending=False)"
   ]
  },
  {
   "cell_type": "code",
   "execution_count": 16,
   "metadata": {},
   "outputs": [
    {
     "data": {
      "text/plain": [
       "Bars                                                         180\n",
       "Italian                                                       78\n",
       "British                                                       64\n",
       "International                                                 58\n",
       "Modern European                                               55\n",
       "                                                            ... \n",
       "International, South American, Sushi                           1\n",
       "Chinese, Indian, Vegetarian                                    1\n",
       "Barbecue, South American, Steak                                1\n",
       "Chinese, Indian, International, Middle Eastern, Pan-Asian      1\n",
       "Afternoon tea, Brasserie                                       1\n",
       "Name: cuisine, Length: 187, dtype: int64"
      ]
     },
     "execution_count": 16,
     "metadata": {},
     "output_type": "execute_result"
    }
   ],
   "source": [
    "df2['cuisine'].value_counts()"
   ]
  },
  {
   "cell_type": "code",
   "execution_count": 19,
   "metadata": {},
   "outputs": [
    {
     "data": {
      "text/plain": [
       "<matplotlib.axes._subplots.AxesSubplot at 0x7fb7c955ea10>"
      ]
     },
     "execution_count": 19,
     "metadata": {},
     "output_type": "execute_result"
    },
    {
     "data": {
      "image/png": "[encoded data removed]",
      "text/plain": [
       "<Figure size 432x288 with 1 Axes>"
      ]
     },
     "metadata": {},
     "output_type": "display_data"
    }
   ],
   "source": [
    "import seaborn as sns\n",
    "log_stars = np.log(df['stars'])\n",
    "log_stars.plot.hist()\n"
   ]
  },
  {
   "cell_type": "code",
   "execution_count": 21,
   "metadata": {},
   "outputs": [
    {
     "data": {
      "text/plain": [
       "cuisine        97\n",
       "num_reviews     0\n",
       "price           0\n",
       "stars           0\n",
       "dtype: int64"
      ]
     },
     "execution_count": 21,
     "metadata": {},
     "output_type": "execute_result"
    }
   ],
   "source": [
    "np.sum(df2.isnull())"
   ]
  },
  {
   "cell_type": "code",
   "execution_count": 28,
   "metadata": {},
   "outputs": [
    {
     "data": {
      "text/plain": [
       "cuisine         97\n",
       "num_reviews      0\n",
       "price          398\n",
       "stars            0\n",
       "dtype: int64"
      ]
     },
     "execution_count": 28,
     "metadata": {},
     "output_type": "execute_result"
    }
   ],
   "source": [
    "df2 = df2.replace('N\\A', np.nan)\n",
    "#df2\n",
    "np.sum(df2.isnull())\n",
    "#np.sum(df2.isnull(), axis=1)\n",
    "#np.sum(Employee.isnull(), axis=0)\n",
    "#Employee.loc[Employee.isnull().any(axis=1),:]\n",
    "#Employee.loc[:,Employee.isnull().any(axis=0) ]"
   ]
  },
  {
   "cell_type": "code",
   "execution_count": 30,
   "metadata": {},
   "outputs": [],
   "source": [
    "df_new = df2.dropna()"
   ]
  },
  {
   "cell_type": "code",
   "execution_count": 31,
   "metadata": {},
   "outputs": [
    {
     "data": {
      "text/plain": [
       "cuisine        0\n",
       "num_reviews    0\n",
       "price          0\n",
       "stars          0\n",
       "dtype: int64"
      ]
     },
     "execution_count": 31,
     "metadata": {},
     "output_type": "execute_result"
    }
   ],
   "source": [
    "np.sum(df_new.isnull())"
   ]
  },
  {
   "cell_type": "code",
   "execution_count": 32,
   "metadata": {},
   "outputs": [
    {
     "data": {
      "text/html": [
       "<div>\n",
       "<style scoped>\n",
       "    .dataframe tbody tr th:only-of-type {\n",
       "        vertical-align: middle;\n",
       "    }\n",
       "\n",
       "    .dataframe tbody tr th {\n",
       "        vertical-align: top;\n",
       "    }\n",
       "\n",
       "    .dataframe thead th {\n",
       "        text-align: right;\n",
       "    }\n",
       "</style>\n",
       "<table border=\"1\" class=\"dataframe\">\n",
       "  <thead>\n",
       "    <tr style=\"text-align: right;\">\n",
       "      <th></th>\n",
       "      <th>cuisine</th>\n",
       "      <th>num_reviews</th>\n",
       "      <th>price</th>\n",
       "      <th>stars</th>\n",
       "    </tr>\n",
       "    <tr>\n",
       "      <th>name</th>\n",
       "      <th></th>\n",
       "      <th></th>\n",
       "      <th></th>\n",
       "      <th></th>\n",
       "    </tr>\n",
       "  </thead>\n",
       "  <tbody>\n",
       "    <tr>\n",
       "      <th>Savoy Grill at The Savoy</th>\n",
       "      <td>Modern European</td>\n",
       "      <td>40</td>\n",
       "      <td>64.5</td>\n",
       "      <td>3.5</td>\n",
       "    </tr>\n",
       "    <tr>\n",
       "      <th>Tamarind Mayfair</th>\n",
       "      <td>Indian</td>\n",
       "      <td>23</td>\n",
       "      <td>64.5</td>\n",
       "      <td>4.0</td>\n",
       "    </tr>\n",
       "    <tr>\n",
       "      <th>Cay Tre Soho</th>\n",
       "      <td>Vietnamese</td>\n",
       "      <td>3</td>\n",
       "      <td>39.5</td>\n",
       "      <td>4.0</td>\n",
       "    </tr>\n",
       "    <tr>\n",
       "      <th>Maxwell's Bar &amp; Grill</th>\n",
       "      <td>North American</td>\n",
       "      <td>3</td>\n",
       "      <td>39.5</td>\n",
       "      <td>4.0</td>\n",
       "    </tr>\n",
       "    <tr>\n",
       "      <th>Franco Manca Victoria</th>\n",
       "      <td>Italian, Pizza</td>\n",
       "      <td>0</td>\n",
       "      <td>30.0</td>\n",
       "      <td>5.0</td>\n",
       "    </tr>\n",
       "    <tr>\n",
       "      <th>...</th>\n",
       "      <td>...</td>\n",
       "      <td>...</td>\n",
       "      <td>...</td>\n",
       "      <td>...</td>\n",
       "    </tr>\n",
       "    <tr>\n",
       "      <th>STK London</th>\n",
       "      <td>North American, Steak</td>\n",
       "      <td>17</td>\n",
       "      <td>64.5</td>\n",
       "      <td>2.0</td>\n",
       "    </tr>\n",
       "    <tr>\n",
       "      <th>Shoryu Ramen Covent Garden</th>\n",
       "      <td>Japanese, Noodles</td>\n",
       "      <td>0</td>\n",
       "      <td>39.5</td>\n",
       "      <td>5.0</td>\n",
       "    </tr>\n",
       "    <tr>\n",
       "      <th>The Burlington Arms</th>\n",
       "      <td>Pubs</td>\n",
       "      <td>0</td>\n",
       "      <td>30.0</td>\n",
       "      <td>5.0</td>\n",
       "    </tr>\n",
       "    <tr>\n",
       "      <th>Spring</th>\n",
       "      <td>Modern European</td>\n",
       "      <td>16</td>\n",
       "      <td>64.5</td>\n",
       "      <td>3.5</td>\n",
       "    </tr>\n",
       "    <tr>\n",
       "      <th>Rowley's, London</th>\n",
       "      <td>British</td>\n",
       "      <td>14</td>\n",
       "      <td>64.5</td>\n",
       "      <td>4.5</td>\n",
       "    </tr>\n",
       "  </tbody>\n",
       "</table>\n",
       "<p>794 rows × 4 columns</p>\n",
       "</div>"
      ],
      "text/plain": [
       "                                          cuisine  num_reviews price  stars\n",
       "name                                                                       \n",
       "Savoy Grill at The Savoy          Modern European           40  64.5    3.5\n",
       "Tamarind Mayfair                           Indian           23  64.5    4.0\n",
       "Cay Tre Soho                           Vietnamese            3  39.5    4.0\n",
       "Maxwell's Bar & Grill              North American            3  39.5    4.0\n",
       "Franco Manca Victoria              Italian, Pizza            0  30.0    5.0\n",
       "...                                           ...          ...   ...    ...\n",
       "STK London                  North American, Steak           17  64.5    2.0\n",
       "Shoryu Ramen Covent Garden      Japanese, Noodles            0  39.5    5.0\n",
       "The Burlington Arms                          Pubs            0  30.0    5.0\n",
       "Spring                            Modern European           16  64.5    3.5\n",
       "Rowley's, London                          British           14  64.5    4.5\n",
       "\n",
       "[794 rows x 4 columns]"
      ]
     },
     "execution_count": 32,
     "metadata": {},
     "output_type": "execute_result"
    }
   ],
   "source": [
    "df_new"
   ]
  },
  {
   "cell_type": "code",
   "execution_count": 34,
   "metadata": {},
   "outputs": [
    {
     "name": "stderr",
     "output_type": "stream",
     "text": [
      "/Users/ElinaMac/opt/anaconda3/lib/python3.7/site-packages/ipykernel_launcher.py:1: SettingWithCopyWarning: \n",
      "A value is trying to be set on a copy of a slice from a DataFrame.\n",
      "Try using .loc[row_indexer,col_indexer] = value instead\n",
      "\n",
      "See the caveats in the documentation: https://pandas.pydata.org/pandas-docs/stable/user_guide/indexing.html#returning-a-view-versus-a-copy\n",
      "  \"\"\"Entry point for launching an IPython kernel.\n"
     ]
    }
   ],
   "source": [
    "df_new['price'] = pd.to_numeric(df_new['price'])"
   ]
  },
  {
   "cell_type": "code",
   "execution_count": 35,
   "metadata": {},
   "outputs": [
    {
     "data": {
      "text/plain": [
       "43.665617128463474"
      ]
     },
     "execution_count": 35,
     "metadata": {},
     "output_type": "execute_result"
    }
   ],
   "source": [
    "df_new['price'].mean()"
   ]
  },
  {
   "cell_type": "code",
   "execution_count": 36,
   "metadata": {},
   "outputs": [
    {
     "data": {
      "text/plain": [
       "4.383501259445844"
      ]
     },
     "execution_count": 36,
     "metadata": {},
     "output_type": "execute_result"
    }
   ],
   "source": [
    "df_new['stars'].mean()"
   ]
  },
  {
   "cell_type": "code",
   "execution_count": 41,
   "metadata": {},
   "outputs": [
    {
     "data": {
      "text/plain": [
       "cuisine\n",
       "Afternoon tea                                21\n",
       "Afternoon tea, Austrian, Central European     1\n",
       "Afternoon tea, Bars                           5\n",
       "Afternoon tea, Bars, British                  1\n",
       "Afternoon tea, Bars, Mediterranean            1\n",
       "                                             ..\n",
       "Vegan, Vegetarian                             1\n",
       "Vegetarian                                    1\n",
       "Vietnamese                                   10\n",
       "West African                                  1\n",
       "Wine Bars                                     9\n",
       "Length: 187, dtype: int64"
      ]
     },
     "execution_count": 41,
     "metadata": {},
     "output_type": "execute_result"
    }
   ],
   "source": [
    "group_cuisine = df2.groupby('cuisine')\n",
    "group_cuisine.size()"
   ]
  },
  {
   "cell_type": "code",
   "execution_count": 42,
   "metadata": {},
   "outputs": [
    {
     "data": {
      "text/plain": [
       "<pandas.core.groupby.generic.DataFrameGroupBy object at 0x7fb7a8e6db50>"
      ]
     },
     "execution_count": 42,
     "metadata": {},
     "output_type": "execute_result"
    }
   ],
   "source": [
    "group_cuisine"
   ]
  },
  {
   "cell_type": "code",
   "execution_count": 43,
   "metadata": {},
   "outputs": [
    {
     "data": {
      "text/plain": [
       "cuisine\n",
       "Afternoon tea                                21\n",
       "Afternoon tea, Austrian, Central European     1\n",
       "Afternoon tea, Bars                           5\n",
       "Afternoon tea, Bars, British                  1\n",
       "Afternoon tea, Bars, Mediterranean            1\n",
       "                                             ..\n",
       "Vegan, Vegetarian                             1\n",
       "Vegetarian                                    1\n",
       "Vietnamese                                   10\n",
       "West African                                  1\n",
       "Wine Bars                                     9\n",
       "Length: 187, dtype: int64"
      ]
     },
     "execution_count": 43,
     "metadata": {},
     "output_type": "execute_result"
    }
   ],
   "source": [
    "g = group_cuisine.size()\n",
    "g\n"
   ]
  },
  {
   "cell_type": "code",
   "execution_count": 44,
   "metadata": {},
   "outputs": [
    {
     "data": {
      "text/plain": [
       "cuisine\n",
       "North African                   1\n",
       "Indian, Persian                 1\n",
       "Indian, Vegan                   1\n",
       "Burgers, Vegan, Vegetarian      1\n",
       "Burgers, Pubs                   1\n",
       "                             ... \n",
       "Modern European                55\n",
       "International                  58\n",
       "British                        64\n",
       "Italian                        78\n",
       "Bars                          180\n",
       "Length: 187, dtype: int64"
      ]
     },
     "execution_count": 44,
     "metadata": {},
     "output_type": "execute_result"
    }
   ],
   "source": [
    "g.sort_values()"
   ]
  },
  {
   "cell_type": "code",
   "execution_count": 66,
   "metadata": {},
   "outputs": [
    {
     "data": {
      "text/html": [
       "<div>\n",
       "<style scoped>\n",
       "    .dataframe tbody tr th:only-of-type {\n",
       "        vertical-align: middle;\n",
       "    }\n",
       "\n",
       "    .dataframe tbody tr th {\n",
       "        vertical-align: top;\n",
       "    }\n",
       "\n",
       "    .dataframe thead th {\n",
       "        text-align: right;\n",
       "    }\n",
       "</style>\n",
       "<table border=\"1\" class=\"dataframe\">\n",
       "  <thead>\n",
       "    <tr style=\"text-align: right;\">\n",
       "      <th></th>\n",
       "      <th>stars</th>\n",
       "    </tr>\n",
       "    <tr>\n",
       "      <th>name</th>\n",
       "      <th></th>\n",
       "    </tr>\n",
       "  </thead>\n",
       "  <tbody>\n",
       "    <tr>\n",
       "      <th>Cay Tre Soho</th>\n",
       "      <td>4.0</td>\n",
       "    </tr>\n",
       "    <tr>\n",
       "      <th>Kingsley Two Brasserie</th>\n",
       "      <td>5.0</td>\n",
       "    </tr>\n",
       "    <tr>\n",
       "      <th>Koba</th>\n",
       "      <td>3.0</td>\n",
       "    </tr>\n",
       "    <tr>\n",
       "      <th>House of Chimney</th>\n",
       "      <td>5.0</td>\n",
       "    </tr>\n",
       "    <tr>\n",
       "      <th>Temper Soho</th>\n",
       "      <td>4.0</td>\n",
       "    </tr>\n",
       "    <tr>\n",
       "      <th>...</th>\n",
       "      <td>...</td>\n",
       "    </tr>\n",
       "    <tr>\n",
       "      <th>STK London</th>\n",
       "      <td>2.0</td>\n",
       "    </tr>\n",
       "    <tr>\n",
       "      <th>Shoryu Ramen Covent Garden</th>\n",
       "      <td>5.0</td>\n",
       "    </tr>\n",
       "    <tr>\n",
       "      <th>The Burlington Arms</th>\n",
       "      <td>5.0</td>\n",
       "    </tr>\n",
       "    <tr>\n",
       "      <th>Spring</th>\n",
       "      <td>3.5</td>\n",
       "    </tr>\n",
       "    <tr>\n",
       "      <th>Rowley's, London</th>\n",
       "      <td>4.5</td>\n",
       "    </tr>\n",
       "  </tbody>\n",
       "</table>\n",
       "<p>495 rows × 1 columns</p>\n",
       "</div>"
      ],
      "text/plain": [
       "                            stars\n",
       "name                             \n",
       "Cay Tre Soho                  4.0\n",
       "Kingsley Two Brasserie        5.0\n",
       "Koba                          3.0\n",
       "House of Chimney              5.0\n",
       "Temper Soho                   4.0\n",
       "...                           ...\n",
       "STK London                    2.0\n",
       "Shoryu Ramen Covent Garden    5.0\n",
       "The Burlington Arms           5.0\n",
       "Spring                        3.5\n",
       "Rowley's, London              4.5\n",
       "\n",
       "[495 rows x 1 columns]"
      ]
     },
     "execution_count": 66,
     "metadata": {},
     "output_type": "execute_result"
    }
   ],
   "source": [
    "bar_df = df_new.groupby('cuisine')[['stars']].tail(10)\n",
    "\n",
    "#df_new.groupby\n",
    "bar_df"
   ]
  },
  {
   "cell_type": "code",
   "execution_count": 65,
   "metadata": {},
   "outputs": [
    {
     "data": {
      "text/plain": [
       "<matplotlib.axes._subplots.AxesSubplot at 0x7fb7ca3d2510>"
      ]
     },
     "execution_count": 65,
     "metadata": {},
     "output_type": "execute_result"
    },
    {
     "data": {
      "text/plain": [
       "<Figure size 864x432 with 0 Axes>"
      ]
     },
     "metadata": {},
     "output_type": "display_data"
    },
    {
     "data": {
      "image/png": "[encoded data removed]",
      "text/plain": [
       "<Figure size 432x288 with 1 Axes>"
      ]
     },
     "metadata": {},
     "output_type": "display_data"
    }
   ],
   "source": [
    "#not good\n",
    "plt.figure(figsize=(12,6))\n",
    "bar_df.plot.bar(color='r')"
   ]
  },
  {
   "cell_type": "code",
   "execution_count": 52,
   "metadata": {},
   "outputs": [
    {
     "data": {
      "text/html": [
       "<div>\n",
       "<style scoped>\n",
       "    .dataframe tbody tr th:only-of-type {\n",
       "        vertical-align: middle;\n",
       "    }\n",
       "\n",
       "    .dataframe tbody tr th {\n",
       "        vertical-align: top;\n",
       "    }\n",
       "\n",
       "    .dataframe thead th {\n",
       "        text-align: right;\n",
       "    }\n",
       "</style>\n",
       "<table border=\"1\" class=\"dataframe\">\n",
       "  <thead>\n",
       "    <tr style=\"text-align: right;\">\n",
       "      <th></th>\n",
       "      <th>cuisine</th>\n",
       "      <th>num_reviews</th>\n",
       "      <th>price</th>\n",
       "      <th>stars</th>\n",
       "    </tr>\n",
       "    <tr>\n",
       "      <th>name</th>\n",
       "      <th></th>\n",
       "      <th></th>\n",
       "      <th></th>\n",
       "      <th></th>\n",
       "    </tr>\n",
       "  </thead>\n",
       "  <tbody>\n",
       "    <tr>\n",
       "      <th>Savoy Grill at The Savoy</th>\n",
       "      <td>Modern European</td>\n",
       "      <td>40</td>\n",
       "      <td>64.5</td>\n",
       "      <td>3.5</td>\n",
       "    </tr>\n",
       "    <tr>\n",
       "      <th>Dirty Martini Covent Garden</th>\n",
       "      <td>Bars</td>\n",
       "      <td>2</td>\n",
       "      <td>NaN</td>\n",
       "      <td>3.0</td>\n",
       "    </tr>\n",
       "    <tr>\n",
       "      <th>Tamarind Mayfair</th>\n",
       "      <td>Indian</td>\n",
       "      <td>23</td>\n",
       "      <td>64.5</td>\n",
       "      <td>4.0</td>\n",
       "    </tr>\n",
       "    <tr>\n",
       "      <th>Bourne &amp; Hollingsworth</th>\n",
       "      <td>Bars</td>\n",
       "      <td>1</td>\n",
       "      <td>NaN</td>\n",
       "      <td>5.0</td>\n",
       "    </tr>\n",
       "    <tr>\n",
       "      <th>Creme de la Crepe</th>\n",
       "      <td>French</td>\n",
       "      <td>0</td>\n",
       "      <td>NaN</td>\n",
       "      <td>5.0</td>\n",
       "    </tr>\n",
       "    <tr>\n",
       "      <th>...</th>\n",
       "      <td>...</td>\n",
       "      <td>...</td>\n",
       "      <td>...</td>\n",
       "      <td>...</td>\n",
       "    </tr>\n",
       "    <tr>\n",
       "      <th>STK London</th>\n",
       "      <td>North American, Steak</td>\n",
       "      <td>17</td>\n",
       "      <td>64.5</td>\n",
       "      <td>2.0</td>\n",
       "    </tr>\n",
       "    <tr>\n",
       "      <th>Shoryu Ramen Covent Garden</th>\n",
       "      <td>Japanese, Noodles</td>\n",
       "      <td>0</td>\n",
       "      <td>39.5</td>\n",
       "      <td>5.0</td>\n",
       "    </tr>\n",
       "    <tr>\n",
       "      <th>The Burlington Arms</th>\n",
       "      <td>Pubs</td>\n",
       "      <td>0</td>\n",
       "      <td>30.0</td>\n",
       "      <td>5.0</td>\n",
       "    </tr>\n",
       "    <tr>\n",
       "      <th>Spring</th>\n",
       "      <td>Modern European</td>\n",
       "      <td>16</td>\n",
       "      <td>64.5</td>\n",
       "      <td>3.5</td>\n",
       "    </tr>\n",
       "    <tr>\n",
       "      <th>Rowley's, London</th>\n",
       "      <td>British</td>\n",
       "      <td>14</td>\n",
       "      <td>64.5</td>\n",
       "      <td>4.5</td>\n",
       "    </tr>\n",
       "  </tbody>\n",
       "</table>\n",
       "<p>1260 rows × 4 columns</p>\n",
       "</div>"
      ],
      "text/plain": [
       "                                           cuisine  num_reviews price  stars\n",
       "name                                                                        \n",
       "Savoy Grill at The Savoy           Modern European           40  64.5    3.5\n",
       "Dirty Martini Covent Garden                   Bars            2   NaN    3.0\n",
       "Tamarind Mayfair                            Indian           23  64.5    4.0\n",
       "Bourne & Hollingsworth                        Bars            1   NaN    5.0\n",
       "Creme de la Crepe                           French            0   NaN    5.0\n",
       "...                                            ...          ...   ...    ...\n",
       "STK London                   North American, Steak           17  64.5    2.0\n",
       "Shoryu Ramen Covent Garden       Japanese, Noodles            0  39.5    5.0\n",
       "The Burlington Arms                           Pubs            0  30.0    5.0\n",
       "Spring                             Modern European           16  64.5    3.5\n",
       "Rowley's, London                           British           14  64.5    4.5\n",
       "\n",
       "[1260 rows x 4 columns]"
      ]
     },
     "execution_count": 52,
     "metadata": {},
     "output_type": "execute_result"
    }
   ],
   "source": [
    "df2"
   ]
  },
  {
   "cell_type": "code",
   "execution_count": 53,
   "metadata": {},
   "outputs": [
    {
     "data": {
      "text/plain": [
       "43.665617128463474"
      ]
     },
     "execution_count": 53,
     "metadata": {},
     "output_type": "execute_result"
    }
   ],
   "source": [
    "#average price\n",
    "df_new['price'].mean()"
   ]
  },
  {
   "cell_type": "code",
   "execution_count": 54,
   "metadata": {},
   "outputs": [
    {
     "data": {
      "text/plain": [
       "4.468253968253968"
      ]
     },
     "execution_count": 54,
     "metadata": {},
     "output_type": "execute_result"
    }
   ],
   "source": [
    "#average stars given \n",
    "df2['stars'].mean()"
   ]
  },
  {
   "cell_type": "code",
   "execution_count": 61,
   "metadata": {},
   "outputs": [
    {
     "data": {
      "text/plain": [
       "<matplotlib.axes._subplots.AxesSubplot at 0x7fb7a96c8310>"
      ]
     },
     "execution_count": 61,
     "metadata": {},
     "output_type": "execute_result"
    },
    {
     "data": {
      "image/png": "[encoded data removed]",
      "text/plain": [
       "<Figure size 864x432 with 1 Axes>"
      ]
     },
     "metadata": {},
     "output_type": "display_data"
    }
   ],
   "source": [
    "plt.figure(figsize=(12,6))\n",
    "df2['stars'].value_counts().plot.bar(color = 'b')"
   ]
  },
  {
   "cell_type": "code",
   "execution_count": 68,
   "metadata": {},
   "outputs": [
    {
     "data": {
      "text/plain": [
       "min     30.000000\n",
       "max     80.000000\n",
       "mean    43.665617\n",
       "Name: price, dtype: float64"
      ]
     },
     "execution_count": 68,
     "metadata": {},
     "output_type": "execute_result"
    }
   ],
   "source": [
    "df_new.agg(['mean', 'min', 'max'])['price']"
   ]
  },
  {
   "cell_type": "code",
   "execution_count": 69,
   "metadata": {},
   "outputs": [
    {
     "data": {
      "text/html": [
       "<div>\n",
       "<style scoped>\n",
       "    .dataframe tbody tr th:only-of-type {\n",
       "        vertical-align: middle;\n",
       "    }\n",
       "\n",
       "    .dataframe tbody tr th {\n",
       "        vertical-align: top;\n",
       "    }\n",
       "\n",
       "    .dataframe thead th {\n",
       "        text-align: right;\n",
       "    }\n",
       "</style>\n",
       "<table border=\"1\" class=\"dataframe\">\n",
       "  <thead>\n",
       "    <tr style=\"text-align: right;\">\n",
       "      <th></th>\n",
       "      <th>cuisine</th>\n",
       "      <th>num_reviews</th>\n",
       "      <th>price</th>\n",
       "      <th>stars</th>\n",
       "    </tr>\n",
       "    <tr>\n",
       "      <th>name</th>\n",
       "      <th></th>\n",
       "      <th></th>\n",
       "      <th></th>\n",
       "      <th></th>\n",
       "    </tr>\n",
       "  </thead>\n",
       "  <tbody>\n",
       "    <tr>\n",
       "      <th>Roka Charlotte Street</th>\n",
       "      <td>Japanese, Sushi</td>\n",
       "      <td>40</td>\n",
       "      <td>80.0</td>\n",
       "      <td>5.0</td>\n",
       "    </tr>\n",
       "    <tr>\n",
       "      <th>Beast</th>\n",
       "      <td>Fish, International, Steak</td>\n",
       "      <td>3</td>\n",
       "      <td>80.0</td>\n",
       "      <td>3.0</td>\n",
       "    </tr>\n",
       "    <tr>\n",
       "      <th>Aulis London</th>\n",
       "      <td>British</td>\n",
       "      <td>1</td>\n",
       "      <td>80.0</td>\n",
       "      <td>5.0</td>\n",
       "    </tr>\n",
       "    <tr>\n",
       "      <th>Bustronome</th>\n",
       "      <td>Afternoon tea, British, French, Modern European</td>\n",
       "      <td>56</td>\n",
       "      <td>80.0</td>\n",
       "      <td>5.0</td>\n",
       "    </tr>\n",
       "    <tr>\n",
       "      <th>Hide Above</th>\n",
       "      <td>British</td>\n",
       "      <td>6</td>\n",
       "      <td>80.0</td>\n",
       "      <td>2.5</td>\n",
       "    </tr>\n",
       "    <tr>\n",
       "      <th>...</th>\n",
       "      <td>...</td>\n",
       "      <td>...</td>\n",
       "      <td>...</td>\n",
       "      <td>...</td>\n",
       "    </tr>\n",
       "    <tr>\n",
       "      <th>Chipotle - Wardour Street</th>\n",
       "      <td>Mexican</td>\n",
       "      <td>1</td>\n",
       "      <td>30.0</td>\n",
       "      <td>4.5</td>\n",
       "    </tr>\n",
       "    <tr>\n",
       "      <th>Pizza Pilgrims Covent Garden</th>\n",
       "      <td>Italian, Pizza</td>\n",
       "      <td>2</td>\n",
       "      <td>30.0</td>\n",
       "      <td>5.0</td>\n",
       "    </tr>\n",
       "    <tr>\n",
       "      <th>Tortilla Charing Cross</th>\n",
       "      <td>Mexican</td>\n",
       "      <td>0</td>\n",
       "      <td>30.0</td>\n",
       "      <td>5.0</td>\n",
       "    </tr>\n",
       "    <tr>\n",
       "      <th>The Halal Guys Leicester Square</th>\n",
       "      <td>Middle Eastern</td>\n",
       "      <td>0</td>\n",
       "      <td>30.0</td>\n",
       "      <td>5.0</td>\n",
       "    </tr>\n",
       "    <tr>\n",
       "      <th>Punch Room at The London Edition</th>\n",
       "      <td>Bars</td>\n",
       "      <td>1</td>\n",
       "      <td>30.0</td>\n",
       "      <td>4.0</td>\n",
       "    </tr>\n",
       "  </tbody>\n",
       "</table>\n",
       "<p>794 rows × 4 columns</p>\n",
       "</div>"
      ],
      "text/plain": [
       "                                                                          cuisine  \\\n",
       "name                                                                                \n",
       "Roka Charlotte Street                                             Japanese, Sushi   \n",
       "Beast                                                  Fish, International, Steak   \n",
       "Aulis London                                                              British   \n",
       "Bustronome                        Afternoon tea, British, French, Modern European   \n",
       "Hide Above                                                                British   \n",
       "...                                                                           ...   \n",
       "Chipotle - Wardour Street                                                 Mexican   \n",
       "Pizza Pilgrims Covent Garden                                       Italian, Pizza   \n",
       "Tortilla Charing Cross                                                    Mexican   \n",
       "The Halal Guys Leicester Square                                    Middle Eastern   \n",
       "Punch Room at The London Edition                                             Bars   \n",
       "\n",
       "                                  num_reviews  price  stars  \n",
       "name                                                         \n",
       "Roka Charlotte Street                      40   80.0    5.0  \n",
       "Beast                                       3   80.0    3.0  \n",
       "Aulis London                                1   80.0    5.0  \n",
       "Bustronome                                 56   80.0    5.0  \n",
       "Hide Above                                  6   80.0    2.5  \n",
       "...                                       ...    ...    ...  \n",
       "Chipotle - Wardour Street                   1   30.0    4.5  \n",
       "Pizza Pilgrims Covent Garden                2   30.0    5.0  \n",
       "Tortilla Charing Cross                      0   30.0    5.0  \n",
       "The Halal Guys Leicester Square             0   30.0    5.0  \n",
       "Punch Room at The London Edition            1   30.0    4.0  \n",
       "\n",
       "[794 rows x 4 columns]"
      ]
     },
     "execution_count": 69,
     "metadata": {},
     "output_type": "execute_result"
    }
   ],
   "source": [
    "df_new.sort_values('price', ascending = False)"
   ]
  },
  {
   "cell_type": "code",
   "execution_count": 76,
   "metadata": {},
   "outputs": [],
   "source": [
    "df1 = df.replace('N\\A', np.nan)\n",
    "df1 = df1.dropna()"
   ]
  },
  {
   "cell_type": "code",
   "execution_count": 79,
   "metadata": {},
   "outputs": [],
   "source": [
    "df_expensive = df1.sort_values('price', ascending = False)"
   ]
  },
  {
   "cell_type": "code",
   "execution_count": 98,
   "metadata": {},
   "outputs": [],
   "source": [
    "x = df1.agg(['min', 'max', 'mean', 'std'])['num_reviews']"
   ]
  },
  {
   "cell_type": "code",
   "execution_count": 99,
   "metadata": {},
   "outputs": [
    {
     "data": {
      "text/plain": [
       "min      0.000000\n",
       "max     91.000000\n",
       "mean     4.863980\n",
       "std     10.085843\n",
       "Name: num_reviews, dtype: float64"
      ]
     },
     "execution_count": 99,
     "metadata": {},
     "output_type": "execute_result"
    }
   ],
   "source": [
    "x"
   ]
  },
  {
   "cell_type": "code",
   "execution_count": 89,
   "metadata": {},
   "outputs": [
    {
     "data": {
      "text/plain": [
       "max    91\n",
       "Name: num_reviews, dtype: int64"
      ]
     },
     "execution_count": 89,
     "metadata": {},
     "output_type": "execute_result"
    }
   ],
   "source": [
    "max_num_reviews = df1.agg(['max'])['num_reviews']\n",
    "max_num_reviews"
   ]
  },
  {
   "cell_type": "code",
   "execution_count": 106,
   "metadata": {},
   "outputs": [
    {
     "data": {
      "text/html": [
       "<div>\n",
       "<style scoped>\n",
       "    .dataframe tbody tr th:only-of-type {\n",
       "        vertical-align: middle;\n",
       "    }\n",
       "\n",
       "    .dataframe tbody tr th {\n",
       "        vertical-align: top;\n",
       "    }\n",
       "\n",
       "    .dataframe thead th {\n",
       "        text-align: right;\n",
       "    }\n",
       "</style>\n",
       "<table border=\"1\" class=\"dataframe\">\n",
       "  <thead>\n",
       "    <tr style=\"text-align: right;\">\n",
       "      <th></th>\n",
       "      <th>cuisine</th>\n",
       "      <th>name</th>\n",
       "      <th>num_reviews</th>\n",
       "      <th>price</th>\n",
       "      <th>stars</th>\n",
       "    </tr>\n",
       "  </thead>\n",
       "  <tbody>\n",
       "    <tr>\n",
       "      <th>0</th>\n",
       "      <td>Modern European</td>\n",
       "      <td>Savoy Grill at The Savoy</td>\n",
       "      <td>40</td>\n",
       "      <td>64.5</td>\n",
       "      <td>3.5</td>\n",
       "    </tr>\n",
       "    <tr>\n",
       "      <th>25</th>\n",
       "      <td>Italian</td>\n",
       "      <td>Bocca di Lupo</td>\n",
       "      <td>64</td>\n",
       "      <td>64.5</td>\n",
       "      <td>5.0</td>\n",
       "    </tr>\n",
       "    <tr>\n",
       "      <th>244</th>\n",
       "      <td>Indian</td>\n",
       "      <td>The Cinnamon Club</td>\n",
       "      <td>59</td>\n",
       "      <td>64.5</td>\n",
       "      <td>4.5</td>\n",
       "    </tr>\n",
       "    <tr>\n",
       "      <th>247</th>\n",
       "      <td>Afternoon tea, British, French, Modern European</td>\n",
       "      <td>Bustronome</td>\n",
       "      <td>56</td>\n",
       "      <td>80.0</td>\n",
       "      <td>5.0</td>\n",
       "    </tr>\n",
       "    <tr>\n",
       "      <th>289</th>\n",
       "      <td>Japanese, Sushi</td>\n",
       "      <td>Roka Charlotte Street</td>\n",
       "      <td>40</td>\n",
       "      <td>80.0</td>\n",
       "      <td>5.0</td>\n",
       "    </tr>\n",
       "    <tr>\n",
       "      <th>491</th>\n",
       "      <td>Chinese, Dim Sum</td>\n",
       "      <td>Yauatcha Soho</td>\n",
       "      <td>51</td>\n",
       "      <td>64.5</td>\n",
       "      <td>5.0</td>\n",
       "    </tr>\n",
       "    <tr>\n",
       "      <th>688</th>\n",
       "      <td>Afternoon tea, French</td>\n",
       "      <td>Balthazar</td>\n",
       "      <td>49</td>\n",
       "      <td>64.5</td>\n",
       "      <td>4.0</td>\n",
       "    </tr>\n",
       "    <tr>\n",
       "      <th>808</th>\n",
       "      <td>French, Vegan, Vegetarian</td>\n",
       "      <td>Gauthier Soho</td>\n",
       "      <td>37</td>\n",
       "      <td>64.5</td>\n",
       "      <td>5.0</td>\n",
       "    </tr>\n",
       "    <tr>\n",
       "      <th>1028</th>\n",
       "      <td>Japanese</td>\n",
       "      <td>Nobu Berkeley St</td>\n",
       "      <td>40</td>\n",
       "      <td>80.0</td>\n",
       "      <td>3.0</td>\n",
       "    </tr>\n",
       "    <tr>\n",
       "      <th>1044</th>\n",
       "      <td>Japanese</td>\n",
       "      <td>Aqua Kyoto</td>\n",
       "      <td>37</td>\n",
       "      <td>64.5</td>\n",
       "      <td>3.0</td>\n",
       "    </tr>\n",
       "    <tr>\n",
       "      <th>1052</th>\n",
       "      <td>Italian</td>\n",
       "      <td>Murano</td>\n",
       "      <td>47</td>\n",
       "      <td>80.0</td>\n",
       "      <td>4.0</td>\n",
       "    </tr>\n",
       "    <tr>\n",
       "      <th>1063</th>\n",
       "      <td>Afternoon tea, Central European, Modern European</td>\n",
       "      <td>The Wolseley</td>\n",
       "      <td>70</td>\n",
       "      <td>64.5</td>\n",
       "      <td>5.0</td>\n",
       "    </tr>\n",
       "    <tr>\n",
       "      <th>1064</th>\n",
       "      <td>Afternoon tea, British</td>\n",
       "      <td>Berners Tavern at The London Edition</td>\n",
       "      <td>41</td>\n",
       "      <td>64.5</td>\n",
       "      <td>5.0</td>\n",
       "    </tr>\n",
       "    <tr>\n",
       "      <th>1084</th>\n",
       "      <td>British</td>\n",
       "      <td>Pollen Street Social</td>\n",
       "      <td>91</td>\n",
       "      <td>64.5</td>\n",
       "      <td>4.5</td>\n",
       "    </tr>\n",
       "    <tr>\n",
       "      <th>1099</th>\n",
       "      <td>Afternoon tea, Austrian, Central European</td>\n",
       "      <td>The Delaunay</td>\n",
       "      <td>71</td>\n",
       "      <td>64.5</td>\n",
       "      <td>5.0</td>\n",
       "    </tr>\n",
       "    <tr>\n",
       "      <th>1136</th>\n",
       "      <td>Halal, Indian</td>\n",
       "      <td>Benares</td>\n",
       "      <td>37</td>\n",
       "      <td>64.5</td>\n",
       "      <td>4.5</td>\n",
       "    </tr>\n",
       "    <tr>\n",
       "      <th>1160</th>\n",
       "      <td>French</td>\n",
       "      <td>Brasserie Zédel</td>\n",
       "      <td>56</td>\n",
       "      <td>39.5</td>\n",
       "      <td>4.5</td>\n",
       "    </tr>\n",
       "    <tr>\n",
       "      <th>1226</th>\n",
       "      <td>French</td>\n",
       "      <td>Galvin at Windows</td>\n",
       "      <td>40</td>\n",
       "      <td>64.5</td>\n",
       "      <td>4.0</td>\n",
       "    </tr>\n",
       "    <tr>\n",
       "      <th>1229</th>\n",
       "      <td>British, International</td>\n",
       "      <td>The Ivy</td>\n",
       "      <td>56</td>\n",
       "      <td>64.5</td>\n",
       "      <td>5.0</td>\n",
       "    </tr>\n",
       "    <tr>\n",
       "      <th>1254</th>\n",
       "      <td>British, Steak</td>\n",
       "      <td>Hawksmoor Seven Dials</td>\n",
       "      <td>41</td>\n",
       "      <td>64.5</td>\n",
       "      <td>5.0</td>\n",
       "    </tr>\n",
       "  </tbody>\n",
       "</table>\n",
       "</div>"
      ],
      "text/plain": [
       "                                               cuisine  \\\n",
       "0                                      Modern European   \n",
       "25                                             Italian   \n",
       "244                                             Indian   \n",
       "247    Afternoon tea, British, French, Modern European   \n",
       "289                                    Japanese, Sushi   \n",
       "491                                   Chinese, Dim Sum   \n",
       "688                              Afternoon tea, French   \n",
       "808                          French, Vegan, Vegetarian   \n",
       "1028                                          Japanese   \n",
       "1044                                          Japanese   \n",
       "1052                                           Italian   \n",
       "1063  Afternoon tea, Central European, Modern European   \n",
       "1064                            Afternoon tea, British   \n",
       "1084                                           British   \n",
       "1099         Afternoon tea, Austrian, Central European   \n",
       "1136                                     Halal, Indian   \n",
       "1160                                            French   \n",
       "1226                                            French   \n",
       "1229                            British, International   \n",
       "1254                                    British, Steak   \n",
       "\n",
       "                                      name  num_reviews price  stars  \n",
       "0                 Savoy Grill at The Savoy           40  64.5    3.5  \n",
       "25                           Bocca di Lupo           64  64.5    5.0  \n",
       "244                      The Cinnamon Club           59  64.5    4.5  \n",
       "247                            Bustronome            56  80.0    5.0  \n",
       "289                  Roka Charlotte Street           40  80.0    5.0  \n",
       "491                          Yauatcha Soho           51  64.5    5.0  \n",
       "688                              Balthazar           49  64.5    4.0  \n",
       "808                          Gauthier Soho           37  64.5    5.0  \n",
       "1028                      Nobu Berkeley St           40  80.0    3.0  \n",
       "1044                            Aqua Kyoto           37  64.5    3.0  \n",
       "1052                                Murano           47  80.0    4.0  \n",
       "1063                          The Wolseley           70  64.5    5.0  \n",
       "1064  Berners Tavern at The London Edition           41  64.5    5.0  \n",
       "1084                  Pollen Street Social           91  64.5    4.5  \n",
       "1099                          The Delaunay           71  64.5    5.0  \n",
       "1136                               Benares           37  64.5    4.5  \n",
       "1160                       Brasserie Zédel           56  39.5    4.5  \n",
       "1226                     Galvin at Windows           40  64.5    4.0  \n",
       "1229                               The Ivy           56  64.5    5.0  \n",
       "1254                 Hawksmoor Seven Dials           41  64.5    5.0  "
      ]
     },
     "execution_count": 106,
     "metadata": {},
     "output_type": "execute_result"
    }
   ],
   "source": [
    "df1[df1['num_reviews'] > x[2] + 3 * x[3]]"
   ]
  },
  {
   "cell_type": "code",
   "execution_count": 100,
   "metadata": {},
   "outputs": [
    {
     "data": {
      "text/plain": [
       "35.12150813812712"
      ]
     },
     "execution_count": 100,
     "metadata": {},
     "output_type": "execute_result"
    }
   ],
   "source": [
    "x[2] + 3 * x[3]"
   ]
  },
  {
   "cell_type": "code",
   "execution_count": 95,
   "metadata": {},
   "outputs": [
    {
     "ename": "NameError",
     "evalue": "name 'std' is not defined",
     "output_type": "error",
     "traceback": [
      "\u001b[0;31m---------------------------------------------------------------------------\u001b[0m",
      "\u001b[0;31mNameError\u001b[0m                                 Traceback (most recent call last)",
      "\u001b[0;32m<ipython-input-95-60449bf8eec6>\u001b[0m in \u001b[0;36m<module>\u001b[0;34m\u001b[0m\n\u001b[0;32m----> 1\u001b[0;31m \u001b[0mstd\u001b[0m\u001b[0;34m\u001b[0m\u001b[0;34m\u001b[0m\u001b[0m\n\u001b[0m",
      "\u001b[0;31mNameError\u001b[0m: name 'std' is not defined"
     ]
    }
   ],
   "source": [
    "std"
   ]
  },
  {
   "cell_type": "code",
   "execution_count": 104,
   "metadata": {},
   "outputs": [],
   "source": [
    "a = df1.groupby('num_reviews')['price']"
   ]
  },
  {
   "cell_type": "code",
   "execution_count": 105,
   "metadata": {},
   "outputs": [
    {
     "data": {
      "text/plain": [
       "<pandas.core.groupby.generic.SeriesGroupBy object at 0x7fb7ca753a90>"
      ]
     },
     "execution_count": 105,
     "metadata": {},
     "output_type": "execute_result"
    }
   ],
   "source": [
    "df1['stars_adj'] = df1.apply[lambda row: row.stars * row.num_reviews]\n"
   ]
  },
  {
   "cell_type": "code",
   "execution_count": 107,
   "metadata": {},
   "outputs": [
    {
     "data": {
      "text/html": [
       "<div>\n",
       "<style scoped>\n",
       "    .dataframe tbody tr th:only-of-type {\n",
       "        vertical-align: middle;\n",
       "    }\n",
       "\n",
       "    .dataframe tbody tr th {\n",
       "        vertical-align: top;\n",
       "    }\n",
       "\n",
       "    .dataframe thead th {\n",
       "        text-align: right;\n",
       "    }\n",
       "</style>\n",
       "<table border=\"1\" class=\"dataframe\">\n",
       "  <thead>\n",
       "    <tr style=\"text-align: right;\">\n",
       "      <th></th>\n",
       "      <th>cuisine</th>\n",
       "      <th>name</th>\n",
       "      <th>num_reviews</th>\n",
       "      <th>price</th>\n",
       "      <th>stars</th>\n",
       "    </tr>\n",
       "  </thead>\n",
       "  <tbody>\n",
       "    <tr>\n",
       "      <th>0</th>\n",
       "      <td>Modern European</td>\n",
       "      <td>Savoy Grill at The Savoy</td>\n",
       "      <td>40</td>\n",
       "      <td>64.5</td>\n",
       "      <td>3.5</td>\n",
       "    </tr>\n",
       "    <tr>\n",
       "      <th>1</th>\n",
       "      <td>Bars</td>\n",
       "      <td>Dirty Martini Covent Garden</td>\n",
       "      <td>2</td>\n",
       "      <td>N\\A</td>\n",
       "      <td>3.0</td>\n",
       "    </tr>\n",
       "    <tr>\n",
       "      <th>2</th>\n",
       "      <td>Indian</td>\n",
       "      <td>Tamarind Mayfair</td>\n",
       "      <td>23</td>\n",
       "      <td>64.5</td>\n",
       "      <td>4.0</td>\n",
       "    </tr>\n",
       "    <tr>\n",
       "      <th>3</th>\n",
       "      <td>Bars</td>\n",
       "      <td>Bourne &amp; Hollingsworth</td>\n",
       "      <td>1</td>\n",
       "      <td>N\\A</td>\n",
       "      <td>5.0</td>\n",
       "    </tr>\n",
       "    <tr>\n",
       "      <th>4</th>\n",
       "      <td>French</td>\n",
       "      <td>Creme de la Crepe</td>\n",
       "      <td>0</td>\n",
       "      <td>N\\A</td>\n",
       "      <td>5.0</td>\n",
       "    </tr>\n",
       "    <tr>\n",
       "      <th>...</th>\n",
       "      <td>...</td>\n",
       "      <td>...</td>\n",
       "      <td>...</td>\n",
       "      <td>...</td>\n",
       "      <td>...</td>\n",
       "    </tr>\n",
       "    <tr>\n",
       "      <th>1255</th>\n",
       "      <td>North American, Steak</td>\n",
       "      <td>STK London</td>\n",
       "      <td>17</td>\n",
       "      <td>64.5</td>\n",
       "      <td>2.0</td>\n",
       "    </tr>\n",
       "    <tr>\n",
       "      <th>1256</th>\n",
       "      <td>Japanese, Noodles</td>\n",
       "      <td>Shoryu Ramen Covent Garden</td>\n",
       "      <td>0</td>\n",
       "      <td>39.5</td>\n",
       "      <td>5.0</td>\n",
       "    </tr>\n",
       "    <tr>\n",
       "      <th>1257</th>\n",
       "      <td>Pubs</td>\n",
       "      <td>The Burlington Arms</td>\n",
       "      <td>0</td>\n",
       "      <td>30.0</td>\n",
       "      <td>5.0</td>\n",
       "    </tr>\n",
       "    <tr>\n",
       "      <th>1258</th>\n",
       "      <td>Modern European</td>\n",
       "      <td>Spring</td>\n",
       "      <td>16</td>\n",
       "      <td>64.5</td>\n",
       "      <td>3.5</td>\n",
       "    </tr>\n",
       "    <tr>\n",
       "      <th>1259</th>\n",
       "      <td>British</td>\n",
       "      <td>Rowley's, London</td>\n",
       "      <td>14</td>\n",
       "      <td>64.5</td>\n",
       "      <td>4.5</td>\n",
       "    </tr>\n",
       "  </tbody>\n",
       "</table>\n",
       "<p>1260 rows × 5 columns</p>\n",
       "</div>"
      ],
      "text/plain": [
       "                    cuisine                         name  num_reviews price  \\\n",
       "0           Modern European     Savoy Grill at The Savoy           40  64.5   \n",
       "1                      Bars  Dirty Martini Covent Garden            2   N\\A   \n",
       "2                    Indian             Tamarind Mayfair           23  64.5   \n",
       "3                      Bars       Bourne & Hollingsworth            1   N\\A   \n",
       "4                    French            Creme de la Crepe            0   N\\A   \n",
       "...                     ...                          ...          ...   ...   \n",
       "1255  North American, Steak                   STK London           17  64.5   \n",
       "1256      Japanese, Noodles   Shoryu Ramen Covent Garden            0  39.5   \n",
       "1257                   Pubs          The Burlington Arms            0  30.0   \n",
       "1258        Modern European                       Spring           16  64.5   \n",
       "1259                British             Rowley's, London           14  64.5   \n",
       "\n",
       "      stars  \n",
       "0       3.5  \n",
       "1       3.0  \n",
       "2       4.0  \n",
       "3       5.0  \n",
       "4       5.0  \n",
       "...     ...  \n",
       "1255    2.0  \n",
       "1256    5.0  \n",
       "1257    5.0  \n",
       "1258    3.5  \n",
       "1259    4.5  \n",
       "\n",
       "[1260 rows x 5 columns]"
      ]
     },
     "execution_count": 107,
     "metadata": {},
     "output_type": "execute_result"
    }
   ],
   "source": [
    "df"
   ]
  },
  {
   "cell_type": "code",
   "execution_count": 111,
   "metadata": {},
   "outputs": [
    {
     "data": {
      "text/plain": [
       "10"
      ]
     },
     "execution_count": 111,
     "metadata": {},
     "output_type": "execute_result"
    }
   ],
   "source": [
    "len(df.stars.unique())"
   ]
  },
  {
   "cell_type": "code",
   "execution_count": 110,
   "metadata": {},
   "outputs": [],
   "source": [
    "N = df.shape[0]"
   ]
  },
  {
   "cell_type": "code",
   "execution_count": 113,
   "metadata": {},
   "outputs": [],
   "source": [
    "num_rest = df.groupby('stars')['name'].count()"
   ]
  },
  {
   "cell_type": "code",
   "execution_count": 114,
   "metadata": {},
   "outputs": [
    {
     "data": {
      "text/plain": [
       "stars\n",
       "0.5      3\n",
       "1.0      7\n",
       "1.5      8\n",
       "2.0     27\n",
       "2.5     20\n",
       "3.0     69\n",
       "3.5     90\n",
       "4.0    162\n",
       "4.5     69\n",
       "5.0    805\n",
       "Name: name, dtype: int64"
      ]
     },
     "execution_count": 114,
     "metadata": {},
     "output_type": "execute_result"
    }
   ],
   "source": [
    "num_rest"
   ]
  },
  {
   "cell_type": "code",
   "execution_count": null,
   "metadata": {},
   "outputs": [],
   "source": []
  }
 ],
 "metadata": {
  "kernelspec": {
   "display_name": "Python 3",
   "language": "python",
   "name": "python3"
  },
  "language_info": {
   "codemirror_mode": {
    "name": "ipython",
    "version": 3
   },
   "file_extension": ".py",
   "mimetype": "text/x-python",
   "name": "python",
   "nbconvert_exporter": "python",
   "pygments_lexer": "ipython3",
   "version": "3.7.7"
  }
 },
 "nbformat": 4,
 "nbformat_minor": 4
}
